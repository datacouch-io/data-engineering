{
 "cells": [
  {
   "cell_type": "code",
   "execution_count": 1,
   "id": "e4cf66f1",
   "metadata": {},
   "outputs": [
    {
     "name": "stderr",
     "output_type": "stream",
     "text": [
      "WARNING: Using incubator modules: jdk.incubator.vector\n",
      "Using Spark's default log4j profile: org/apache/spark/log4j2-defaults.properties\n",
      "Setting default log level to \"WARN\".\n",
      "To adjust logging level use sc.setLogLevel(newLevel). For SparkR, use setLogLevel(newLevel).\n",
      "25/07/17 12:00:08 WARN NativeCodeLoader: Unable to load native-hadoop library for your platform... using builtin-java classes where applicable\n"
     ]
    }
   ],
   "source": [
    "from pyspark.sql import SparkSession\n",
    "spark = SparkSession.builder \\\n",
    "    .appName(\"SparkSession\") \\\n",
    "    .getOrCreate()"
   ]
  },
  {
   "cell_type": "code",
   "execution_count": 2,
   "id": "f8a5b748",
   "metadata": {},
   "outputs": [],
   "source": [
    "spark.conf.set(\"spark.sql.adaptive.enabled\",\"false\")"
   ]
  },
  {
   "cell_type": "code",
   "execution_count": 3,
   "id": "2f6e2b7f",
   "metadata": {},
   "outputs": [
    {
     "name": "stderr",
     "output_type": "stream",
     "text": [
      "[Stage 3:=============================>                             (4 + 4) / 8]\r"
     ]
    },
    {
     "name": "stdout",
     "output_type": "stream",
     "text": [
      "+-------+------+------+----------+--------------------+--------------------+\n",
      "|movieId|userId|rating| timestamp|               title|              genres|\n",
      "+-------+------+------+----------+--------------------+--------------------+\n",
      "|   5684|     1|   2.0|1147879797|   Naqoyqatsi (2002)|         Documentary|\n",
      "|   7318|     1|   2.0|1147879850|Passion of the Ch...|               Drama|\n",
      "|    480|     2|   2.0|1141417088|Jurassic Park (1993)|Action|Adventure|...|\n",
      "|    553|     2|   2.0|1141415539|    Tombstone (1993)|Action|Drama|Western|\n",
      "|    588|     2|   2.0|1141417189|      Aladdin (1992)|Adventure|Animati...|\n",
      "|   2273|     2|   2.0|1141416159|    Rush Hour (1998)|Action|Comedy|Cri...|\n",
      "|   3148|     2|   2.0|1141417561|Cider House Rules...|               Drama|\n",
      "|   3479|     2|   2.0|1141416018|    Ladyhawke (1985)|Adventure|Fantasy...|\n",
      "|   5010|     2|   2.0|1141417260|Black Hawk Down (...|    Action|Drama|War|\n",
      "|   6156|     2|   2.0|1141416367|Shanghai Knights ...|Action|Adventure|...|\n",
      "|   6287|     2|   2.0|1141416381|Anger Management ...|              Comedy|\n",
      "|   7004|     2|   2.0|1141416351|Kindergarten Cop ...|Action|Comedy|Cri...|\n",
      "|   7090|     2|   2.0|1141417947|Hero (Ying xiong)...|Action|Adventure|...|\n",
      "|    480|     3|   2.0|1439472219|Jurassic Park (1993)|Action|Adventure|...|\n",
      "|   1882|     3|   2.0|1439475127|     Godzilla (1998)|Action|Sci-Fi|Thr...|\n",
      "|   3646|     3|   2.0|1439473733|Big Momma's House...|              Comedy|\n",
      "|   3825|     3|   2.0|1439473317|  Coyote Ugly (2000)|Comedy|Drama|Romance|\n",
      "|   3991|     3|   2.0|1439474120|102 Dalmatians (2...|     Children|Comedy|\n",
      "|   4340|     3|   2.0|1439474202|  Animal, The (2001)|              Comedy|\n",
      "|   4368|     3|   2.0|1439474032|Dr. Dolittle 2 (2...|              Comedy|\n",
      "+-------+------+------+----------+--------------------+--------------------+\n",
      "only showing top 20 rows\n"
     ]
    },
    {
     "name": "stderr",
     "output_type": "stream",
     "text": [
      "                                                                                \r"
     ]
    }
   ],
   "source": [
    "moviesDF = spark.read.option(\"header\",\"true\").csv(\"spark-data/movies.csv\")\n",
    "ratingDF = spark.read.option(\"header\",\"true\").csv(\"spark-data/ratings.csv\")\n",
    "\n",
    "joinDF = ratingDF \\\n",
    ".filter(\"rating == 2.0\") \\\n",
    ".join(moviesDF,\"movieId\") \\\n",
    ".cache()\n",
    "\n",
    "joinDF.count()\n",
    "joinDF.show()\n",
    "\n"
   ]
  },
  {
   "cell_type": "code",
   "execution_count": 4,
   "id": "cc7c4b29-81a2-48f4-9361-857e9a1b8a28",
   "metadata": {},
   "outputs": [
    {
     "name": "stderr",
     "output_type": "stream",
     "text": [
      "[Stage 13:=====================>                                    (3 + 5) / 8]\r"
     ]
    },
    {
     "name": "stdout",
     "output_type": "stream",
     "text": [
      "+-------+------+------+----------+--------------+--------------+\n",
      "|movieId|userId|rating| timestamp|         title|        genres|\n",
      "+-------+------+------+----------+--------------+--------------+\n",
      "|      7|    23|   2.0| 943135696|Sabrina (1995)|Comedy|Romance|\n",
      "|      7|   528|   2.0| 844766853|Sabrina (1995)|Comedy|Romance|\n",
      "|      7|   769|   2.0| 851183113|Sabrina (1995)|Comedy|Romance|\n",
      "|      7|   876|   2.0|1192024023|Sabrina (1995)|Comedy|Romance|\n",
      "|      7|  1414|   2.0|1137895932|Sabrina (1995)|Comedy|Romance|\n",
      "|      7|  1445|   2.0| 856540874|Sabrina (1995)|Comedy|Romance|\n",
      "|      7|  1845|   2.0| 846975410|Sabrina (1995)|Comedy|Romance|\n",
      "|      7|  1870|   2.0|1092035543|Sabrina (1995)|Comedy|Romance|\n",
      "|      7|  2012|   2.0| 944138164|Sabrina (1995)|Comedy|Romance|\n",
      "|      7|  2488|   2.0| 850494600|Sabrina (1995)|Comedy|Romance|\n",
      "|      7|  2982|   2.0|1105585372|Sabrina (1995)|Comedy|Romance|\n",
      "|      7|  3612|   2.0| 854193543|Sabrina (1995)|Comedy|Romance|\n",
      "|      7|  3733|   2.0| 860789927|Sabrina (1995)|Comedy|Romance|\n",
      "|      7|  3859|   2.0| 938793858|Sabrina (1995)|Comedy|Romance|\n",
      "|      7|  4252|   2.0| 852085764|Sabrina (1995)|Comedy|Romance|\n",
      "|      7|  4313|   2.0| 955516404|Sabrina (1995)|Comedy|Romance|\n",
      "|      7|  4960|   2.0| 854306115|Sabrina (1995)|Comedy|Romance|\n",
      "|      7|  5082|   2.0|1162224004|Sabrina (1995)|Comedy|Romance|\n",
      "|      7|  5346|   2.0|1483570928|Sabrina (1995)|Comedy|Romance|\n",
      "|      7|  5535|   2.0|1085337731|Sabrina (1995)|Comedy|Romance|\n",
      "+-------+------+------+----------+--------------+--------------+\n",
      "only showing top 20 rows\n"
     ]
    },
    {
     "name": "stderr",
     "output_type": "stream",
     "text": [
      "                                                                                \r"
     ]
    }
   ],
   "source": [
    "moviesDF = spark.read.option(\"header\",\"true\").csv(\"spark-data/movies.csv\")\n",
    "ratingDF = spark.read.option(\"header\",\"true\").csv(\"spark-data/ratings.csv\")\n",
    "\n",
    "joinDF = ratingDF \\\n",
    ".filter(\"rating == 2.0\") \\\n",
    ".join(moviesDF,\"movieId\",\"right\") \\\n",
    "\n",
    "joinDF.count()\n",
    "\n",
    "joinDF.show()"
   ]
  },
  {
   "cell_type": "code",
   "execution_count": 5,
   "id": "615315fe-b5dc-40b5-9094-b64673d29bc9",
   "metadata": {},
   "outputs": [
    {
     "name": "stderr",
     "output_type": "stream",
     "text": [
      "                                                                                \r"
     ]
    }
   ],
   "source": [
    "moviesDF = spark.read.option(\"header\",\"true\").csv(\"spark-data/movies.csv\")\n",
    "ratingDF = spark.read.option(\"header\",\"true\").csv(\"spark-data/ratings.csv\")\n",
    "\n",
    "joinDF = moviesDF \\\n",
    ".join(ratingDF,\"movieId\",\"right\") \\\n",
    ".count()"
   ]
  },
  {
   "cell_type": "code",
   "execution_count": 6,
   "id": "7447b4cb-55f2-4c66-a717-5bb9475ab0b6",
   "metadata": {},
   "outputs": [
    {
     "name": "stderr",
     "output_type": "stream",
     "text": [
      "                                                                                \r"
     ]
    }
   ],
   "source": [
    "moviesDF = spark.read.option(\"header\",\"true\").csv(\"spark-data/movies.csv\")\n",
    "ratingDF = spark.read.option(\"header\",\"true\").csv(\"spark-data/ratings.csv\")\n",
    "\n",
    "joinDF = moviesDF \\\n",
    ".join(ratingDF,\"movieId\") \\\n",
    ".count()"
   ]
  },
  {
   "cell_type": "code",
   "execution_count": 7,
   "id": "bd1073fa-536f-497f-950b-b99aedd5b96c",
   "metadata": {},
   "outputs": [],
   "source": [
    "spark.conf.set(\"spark.sql.autoBroadcastJoinThreshold\",\"10MB\")"
   ]
  },
  {
   "cell_type": "code",
   "execution_count": 8,
   "id": "b93a1b7c-170f-4b02-9c3f-e6d76ad77b4a",
   "metadata": {},
   "outputs": [],
   "source": [
    "joinDF = ratingDF \\\n",
    ".filter(\"rating == 2.0\") \\\n",
    ".join(moviesDF,\"movieId\") \\\n",
    ".count()"
   ]
  },
  {
   "cell_type": "code",
   "execution_count": 9,
   "id": "0e6f7c82-71de-4fe3-a1b9-6225c4e4ad0e",
   "metadata": {},
   "outputs": [
    {
     "name": "stderr",
     "output_type": "stream",
     "text": [
      "[Stage 33:=============================>                            (4 + 4) / 8]\r"
     ]
    },
    {
     "name": "stdout",
     "output_type": "stream",
     "text": [
      "+-------+------+------+----------+------+----------------+----------+\n",
      "|movieId|userId|rating| timestamp|userId|             tag| timestamp|\n",
      "+-------+------+------+----------+------+----------------+----------+\n",
      "| 102113| 12223|   1.0|1444496972| 21096|nudity (topless)|1407096897|\n",
      "| 102113| 12223|   1.0|1444496972| 70092|         DVD-RAM|1367090534|\n",
      "| 102113| 21529|   3.5|1501377593| 21096|nudity (topless)|1407096897|\n",
      "| 102113| 21529|   3.5|1501377593| 70092|         DVD-RAM|1367090534|\n",
      "| 102113| 23763|   1.5|1543875414| 21096|nudity (topless)|1407096897|\n",
      "| 102113| 23763|   1.5|1543875414| 70092|         DVD-RAM|1367090534|\n",
      "| 102113| 29803|   1.5|1545119127| 21096|nudity (topless)|1407096897|\n",
      "| 102113| 29803|   1.5|1545119127| 70092|         DVD-RAM|1367090534|\n",
      "| 102113| 51971|   1.5|1457795021| 21096|nudity (topless)|1407096897|\n",
      "| 102113| 51971|   1.5|1457795021| 70092|         DVD-RAM|1367090534|\n",
      "| 102113| 73268|   0.5|1475289221| 21096|nudity (topless)|1407096897|\n",
      "| 102113| 73268|   0.5|1475289221| 70092|         DVD-RAM|1367090534|\n",
      "| 102113| 82540|   4.0|1421682082| 21096|nudity (topless)|1407096897|\n",
      "| 102113| 82540|   4.0|1421682082| 70092|         DVD-RAM|1367090534|\n",
      "| 102113| 86654|   2.5|1371499471| 21096|nudity (topless)|1407096897|\n",
      "| 102113| 86654|   2.5|1371499471| 70092|         DVD-RAM|1367090534|\n",
      "| 102113| 93855|   0.5|1366956204| 21096|nudity (topless)|1407096897|\n",
      "| 102113| 93855|   0.5|1366956204| 70092|         DVD-RAM|1367090534|\n",
      "| 102113|108971|   3.0|1550881809| 21096|nudity (topless)|1407096897|\n",
      "| 102113|108971|   3.0|1550881809| 70092|         DVD-RAM|1367090534|\n",
      "+-------+------+------+----------+------+----------------+----------+\n",
      "only showing top 20 rows\n"
     ]
    },
    {
     "name": "stderr",
     "output_type": "stream",
     "text": [
      "                                                                                \r"
     ]
    }
   ],
   "source": [
    "ratingDF = spark.read.option(\"header\",\"true\").csv(\"spark-data/ratings.csv\")\n",
    "ratingDF.repartition(\"movieId\")\n",
    "tagsDF = spark.read.option(\"header\",\"true\").csv(\"spark-data/tags.csv\")\n",
    "ratingDF.join(tagsDF,\"movieId\").show()"
   ]
  },
  {
   "cell_type": "code",
   "execution_count": 10,
   "id": "7018eb66-aa0f-448a-b8b2-cc9a6527f43b",
   "metadata": {},
   "outputs": [
    {
     "data": {
      "text/plain": [
       "'10MB'"
      ]
     },
     "execution_count": 10,
     "metadata": {},
     "output_type": "execute_result"
    }
   ],
   "source": [
    "spark.conf.get(\"spark.sql.autoBroadcastJoinThreshold\")"
   ]
  },
  {
   "cell_type": "code",
   "execution_count": 11,
   "id": "c3a303e6",
   "metadata": {},
   "outputs": [
    {
     "name": "stderr",
     "output_type": "stream",
     "text": [
      "                                                                                \r"
     ]
    },
    {
     "data": {
      "text/plain": [
       "10883253790"
      ]
     },
     "execution_count": 11,
     "metadata": {},
     "output_type": "execute_result"
    }
   ],
   "source": [
    "\n",
    "\n",
    "tagsDF = spark.read.option(\"header\",\"true\").csv(\"spark-data/tags.csv\")\n",
    "ratingDF = spark.read.option(\"header\",\"true\").csv(\"spark-data/ratings.csv\")\n",
    "ratingDF \\\n",
    "    .join(tagsDF,\"movieId\") \\\n",
    "    .count()"
   ]
  },
  {
   "cell_type": "code",
   "execution_count": 12,
   "id": "54addc9f-aea3-4c7b-b79f-2fd96ddb15a5",
   "metadata": {},
   "outputs": [
    {
     "name": "stderr",
     "output_type": "stream",
     "text": [
      "                                                                                \r"
     ]
    },
    {
     "data": {
      "text/plain": [
       "10883253790"
      ]
     },
     "execution_count": 12,
     "metadata": {},
     "output_type": "execute_result"
    }
   ],
   "source": [
    "from pyspark.sql.functions import *\n",
    "\n",
    "tagsDF = spark.read.option(\"header\",\"true\").csv(\"spark-data/tags.csv\")\n",
    "ratingDF = spark.read.option(\"header\",\"true\").csv(\"spark-data/ratings.csv\")\n",
    "ratingDF \\\n",
    "    .join(broadcast(tagsDF),\"movieId\") \\\n",
    "    .count()"
   ]
  },
  {
   "cell_type": "code",
   "execution_count": 13,
   "id": "1e49cc9a",
   "metadata": {},
   "outputs": [
    {
     "name": "stderr",
     "output_type": "stream",
     "text": [
      "25/07/17 12:04:16 WARN MemoryManager: Total allocation exceeds 95.00% (1,020,054,720 bytes) of heap memory\n",
      "Scaling row group sizes to 95.00% for 8 writers\n",
      "25/07/17 12:04:17 WARN MemoryManager: Total allocation exceeds 95.00% (1,020,054,720 bytes) of heap memory\n",
      "Scaling row group sizes to 95.00% for 8 writers\n",
      "25/07/17 12:04:17 WARN MemoryManager: Total allocation exceeds 95.00% (1,020,054,720 bytes) of heap memory\n",
      "Scaling row group sizes to 95.00% for 8 writers\n",
      "25/07/17 12:04:17 WARN MemoryManager: Total allocation exceeds 95.00% (1,020,054,720 bytes) of heap memory\n",
      "Scaling row group sizes to 95.00% for 8 writers\n",
      "25/07/17 12:04:18 WARN MemoryManager: Total allocation exceeds 95.00% (1,020,054,720 bytes) of heap memory\n",
      "Scaling row group sizes to 95.00% for 8 writers\n",
      "25/07/17 12:04:18 WARN MemoryManager: Total allocation exceeds 95.00% (1,020,054,720 bytes) of heap memory\n",
      "Scaling row group sizes to 95.00% for 8 writers\n",
      "25/07/17 12:04:18 WARN MemoryManager: Total allocation exceeds 95.00% (1,020,054,720 bytes) of heap memory\n",
      "Scaling row group sizes to 95.00% for 8 writers\n",
      "25/07/17 12:04:18 WARN MemoryManager: Total allocation exceeds 95.00% (1,020,054,720 bytes) of heap memory\n",
      "Scaling row group sizes to 95.00% for 8 writers\n",
      "25/07/17 12:04:18 WARN MemoryManager: Total allocation exceeds 95.00% (1,020,054,720 bytes) of heap memory\n",
      "Scaling row group sizes to 95.00% for 8 writers\n",
      "                                                                                \r"
     ]
    }
   ],
   "source": [
    "tagsDF = spark.read.option(\"header\",\"true\").csv(\"spark-data/tags.csv\")\n",
    "tagsDF \\\n",
    ".write \\\n",
    ".bucketBy(12,\"movieId\") \\\n",
    ".mode(\"overwrite\") \\\n",
    ".saveAsTable(\"tags_bucketed\",mode='overwrite',path='data/rating/tags_bucketed')"
   ]
  },
  {
   "cell_type": "code",
   "execution_count": 14,
   "id": "a93c6766",
   "metadata": {},
   "outputs": [
    {
     "name": "stderr",
     "output_type": "stream",
     "text": [
      "25/07/17 12:04:36 WARN MemoryManager: Total allocation exceeds 95.00% (1,020,054,720 bytes) of heap memory\n",
      "Scaling row group sizes to 95.00% for 8 writers\n",
      "25/07/17 12:04:37 WARN MemoryManager: Total allocation exceeds 95.00% (1,020,054,720 bytes) of heap memory\n",
      "Scaling row group sizes to 95.00% for 8 writers\n",
      "25/07/17 12:04:37 WARN MemoryManager: Total allocation exceeds 95.00% (1,020,054,720 bytes) of heap memory\n",
      "Scaling row group sizes to 95.00% for 8 writers\n",
      "25/07/17 12:04:38 WARN MemoryManager: Total allocation exceeds 95.00% (1,020,054,720 bytes) of heap memory\n",
      "Scaling row group sizes to 95.00% for 8 writers\n",
      "25/07/17 12:04:38 WARN MemoryManager: Total allocation exceeds 95.00% (1,020,054,720 bytes) of heap memory\n",
      "Scaling row group sizes to 95.00% for 8 writers\n",
      "25/07/17 12:04:38 WARN MemoryManager: Total allocation exceeds 95.00% (1,020,054,720 bytes) of heap memory\n",
      "Scaling row group sizes to 95.00% for 8 writers\n",
      "25/07/17 12:04:38 WARN MemoryManager: Total allocation exceeds 95.00% (1,020,054,720 bytes) of heap memory\n",
      "Scaling row group sizes to 95.00% for 8 writers\n",
      "25/07/17 12:04:38 WARN MemoryManager: Total allocation exceeds 95.00% (1,020,054,720 bytes) of heap memory\n",
      "Scaling row group sizes to 95.00% for 8 writers\n",
      "25/07/17 12:04:39 WARN MemoryManager: Total allocation exceeds 95.00% (1,020,054,720 bytes) of heap memory\n",
      "Scaling row group sizes to 95.00% for 8 writers\n",
      "25/07/17 12:04:39 WARN MemoryManager: Total allocation exceeds 95.00% (1,020,054,720 bytes) of heap memory\n",
      "Scaling row group sizes to 95.00% for 8 writers\n",
      "25/07/17 12:04:40 WARN MemoryManager: Total allocation exceeds 95.00% (1,020,054,720 bytes) of heap memory\n",
      "Scaling row group sizes to 95.00% for 8 writers\n",
      "25/07/17 12:04:40 WARN MemoryManager: Total allocation exceeds 95.00% (1,020,054,720 bytes) of heap memory\n",
      "Scaling row group sizes to 95.00% for 8 writers\n",
      "25/07/17 12:04:40 WARN MemoryManager: Total allocation exceeds 95.00% (1,020,054,720 bytes) of heap memory\n",
      "Scaling row group sizes to 95.00% for 8 writers\n",
      "25/07/17 12:04:40 WARN MemoryManager: Total allocation exceeds 95.00% (1,020,054,720 bytes) of heap memory\n",
      "Scaling row group sizes to 95.00% for 8 writers\n",
      "25/07/17 12:04:40 WARN MemoryManager: Total allocation exceeds 95.00% (1,020,054,720 bytes) of heap memory\n",
      "Scaling row group sizes to 95.00% for 8 writers\n",
      "25/07/17 12:04:41 WARN MemoryManager: Total allocation exceeds 95.00% (1,020,054,720 bytes) of heap memory\n",
      "Scaling row group sizes to 95.00% for 8 writers\n",
      "25/07/17 12:04:41 WARN MemoryManager: Total allocation exceeds 95.00% (1,020,054,720 bytes) of heap memory\n",
      "Scaling row group sizes to 95.00% for 8 writers\n",
      "25/07/17 12:04:42 WARN MemoryManager: Total allocation exceeds 95.00% (1,020,054,720 bytes) of heap memory\n",
      "Scaling row group sizes to 95.00% for 8 writers\n",
      "25/07/17 12:04:42 WARN MemoryManager: Total allocation exceeds 95.00% (1,020,054,720 bytes) of heap memory\n",
      "Scaling row group sizes to 95.00% for 8 writers\n",
      "25/07/17 12:04:42 WARN MemoryManager: Total allocation exceeds 95.00% (1,020,054,720 bytes) of heap memory\n",
      "Scaling row group sizes to 95.00% for 8 writers\n",
      "25/07/17 12:04:42 WARN MemoryManager: Total allocation exceeds 95.00% (1,020,054,720 bytes) of heap memory\n",
      "Scaling row group sizes to 95.00% for 8 writers\n",
      "25/07/17 12:04:43 WARN MemoryManager: Total allocation exceeds 95.00% (1,020,054,720 bytes) of heap memory\n",
      "Scaling row group sizes to 95.00% for 8 writers\n",
      "25/07/17 12:04:43 WARN MemoryManager: Total allocation exceeds 95.00% (1,020,054,720 bytes) of heap memory\n",
      "Scaling row group sizes to 95.00% for 8 writers\n",
      "25/07/17 12:04:43 WARN MemoryManager: Total allocation exceeds 95.00% (1,020,054,720 bytes) of heap memory\n",
      "Scaling row group sizes to 95.00% for 8 writers\n",
      "25/07/17 12:04:43 WARN MemoryManager: Total allocation exceeds 95.00% (1,020,054,720 bytes) of heap memory\n",
      "Scaling row group sizes to 95.00% for 8 writers\n",
      "25/07/17 12:04:44 WARN MemoryManager: Total allocation exceeds 95.00% (1,020,054,720 bytes) of heap memory\n",
      "Scaling row group sizes to 95.00% for 8 writers\n",
      "25/07/17 12:04:44 WARN MemoryManager: Total allocation exceeds 95.00% (1,020,054,720 bytes) of heap memory\n",
      "Scaling row group sizes to 95.00% for 8 writers\n",
      "25/07/17 12:04:44 WARN MemoryManager: Total allocation exceeds 95.00% (1,020,054,720 bytes) of heap memory\n",
      "Scaling row group sizes to 95.00% for 8 writers\n",
      "25/07/17 12:04:45 WARN MemoryManager: Total allocation exceeds 95.00% (1,020,054,720 bytes) of heap memory\n",
      "Scaling row group sizes to 95.00% for 8 writers\n",
      "25/07/17 12:04:45 WARN MemoryManager: Total allocation exceeds 95.00% (1,020,054,720 bytes) of heap memory\n",
      "Scaling row group sizes to 95.00% for 8 writers\n",
      "25/07/17 12:04:45 WARN MemoryManager: Total allocation exceeds 95.00% (1,020,054,720 bytes) of heap memory\n",
      "Scaling row group sizes to 95.00% for 8 writers\n",
      "25/07/17 12:04:45 WARN MemoryManager: Total allocation exceeds 95.00% (1,020,054,720 bytes) of heap memory\n",
      "Scaling row group sizes to 95.00% for 8 writers\n",
      "25/07/17 12:04:46 WARN MemoryManager: Total allocation exceeds 95.00% (1,020,054,720 bytes) of heap memory\n",
      "Scaling row group sizes to 95.00% for 8 writers\n",
      "25/07/17 12:04:46 WARN MemoryManager: Total allocation exceeds 95.00% (1,020,054,720 bytes) of heap memory\n",
      "Scaling row group sizes to 95.00% for 8 writers\n",
      "25/07/17 12:04:46 WARN MemoryManager: Total allocation exceeds 95.00% (1,020,054,720 bytes) of heap memory\n",
      "Scaling row group sizes to 95.00% for 8 writers\n",
      "25/07/17 12:04:46 WARN MemoryManager: Total allocation exceeds 95.00% (1,020,054,720 bytes) of heap memory\n",
      "Scaling row group sizes to 95.00% for 8 writers\n",
      "25/07/17 12:04:47 WARN MemoryManager: Total allocation exceeds 95.00% (1,020,054,720 bytes) of heap memory\n",
      "Scaling row group sizes to 95.00% for 8 writers\n",
      "25/07/17 12:04:47 WARN MemoryManager: Total allocation exceeds 95.00% (1,020,054,720 bytes) of heap memory\n",
      "Scaling row group sizes to 95.00% for 8 writers\n",
      "25/07/17 12:04:47 WARN MemoryManager: Total allocation exceeds 95.00% (1,020,054,720 bytes) of heap memory\n",
      "Scaling row group sizes to 95.00% for 8 writers\n",
      "25/07/17 12:04:47 WARN MemoryManager: Total allocation exceeds 95.00% (1,020,054,720 bytes) of heap memory\n",
      "Scaling row group sizes to 95.00% for 8 writers\n",
      "25/07/17 12:04:47 WARN MemoryManager: Total allocation exceeds 95.00% (1,020,054,720 bytes) of heap memory\n",
      "Scaling row group sizes to 95.00% for 8 writers\n",
      "25/07/17 12:04:48 WARN MemoryManager: Total allocation exceeds 95.00% (1,020,054,720 bytes) of heap memory\n",
      "Scaling row group sizes to 95.00% for 8 writers\n",
      "25/07/17 12:04:48 WARN MemoryManager: Total allocation exceeds 95.00% (1,020,054,720 bytes) of heap memory\n",
      "Scaling row group sizes to 95.00% for 8 writers\n",
      "25/07/17 12:04:48 WARN MemoryManager: Total allocation exceeds 95.00% (1,020,054,720 bytes) of heap memory\n",
      "Scaling row group sizes to 95.00% for 8 writers\n",
      "25/07/17 12:04:49 WARN MemoryManager: Total allocation exceeds 95.00% (1,020,054,720 bytes) of heap memory\n",
      "Scaling row group sizes to 95.00% for 8 writers\n",
      "25/07/17 12:04:49 WARN MemoryManager: Total allocation exceeds 95.00% (1,020,054,720 bytes) of heap memory\n",
      "Scaling row group sizes to 95.00% for 8 writers\n",
      "25/07/17 12:04:49 WARN MemoryManager: Total allocation exceeds 95.00% (1,020,054,720 bytes) of heap memory\n",
      "Scaling row group sizes to 95.00% for 8 writers\n",
      "25/07/17 12:04:49 WARN MemoryManager: Total allocation exceeds 95.00% (1,020,054,720 bytes) of heap memory\n",
      "Scaling row group sizes to 95.00% for 8 writers\n",
      "25/07/17 12:04:49 WARN MemoryManager: Total allocation exceeds 95.00% (1,020,054,720 bytes) of heap memory\n",
      "Scaling row group sizes to 95.00% for 8 writers\n",
      "25/07/17 12:04:50 WARN MemoryManager: Total allocation exceeds 95.00% (1,020,054,720 bytes) of heap memory\n",
      "Scaling row group sizes to 95.00% for 8 writers\n",
      "25/07/17 12:04:50 WARN MemoryManager: Total allocation exceeds 95.00% (1,020,054,720 bytes) of heap memory\n",
      "Scaling row group sizes to 95.00% for 8 writers\n",
      "25/07/17 12:04:50 WARN MemoryManager: Total allocation exceeds 95.00% (1,020,054,720 bytes) of heap memory\n",
      "Scaling row group sizes to 95.00% for 8 writers\n",
      "25/07/17 12:04:50 WARN MemoryManager: Total allocation exceeds 95.00% (1,020,054,720 bytes) of heap memory\n",
      "Scaling row group sizes to 95.00% for 8 writers\n",
      "25/07/17 12:04:50 WARN MemoryManager: Total allocation exceeds 95.00% (1,020,054,720 bytes) of heap memory\n",
      "Scaling row group sizes to 95.00% for 8 writers\n",
      "25/07/17 12:04:51 WARN MemoryManager: Total allocation exceeds 95.00% (1,020,054,720 bytes) of heap memory\n",
      "Scaling row group sizes to 95.00% for 8 writers\n",
      "25/07/17 12:04:51 WARN MemoryManager: Total allocation exceeds 95.00% (1,020,054,720 bytes) of heap memory\n",
      "Scaling row group sizes to 95.00% for 8 writers\n",
      "25/07/17 12:04:51 WARN MemoryManager: Total allocation exceeds 95.00% (1,020,054,720 bytes) of heap memory\n",
      "Scaling row group sizes to 95.00% for 8 writers\n",
      "25/07/17 12:04:52 WARN MemoryManager: Total allocation exceeds 95.00% (1,020,054,720 bytes) of heap memory\n",
      "Scaling row group sizes to 95.00% for 8 writers\n",
      "25/07/17 12:04:52 WARN MemoryManager: Total allocation exceeds 95.00% (1,020,054,720 bytes) of heap memory\n",
      "Scaling row group sizes to 95.00% for 8 writers\n",
      "25/07/17 12:04:52 WARN MemoryManager: Total allocation exceeds 95.00% (1,020,054,720 bytes) of heap memory\n",
      "Scaling row group sizes to 95.00% for 8 writers\n",
      "25/07/17 12:04:52 WARN MemoryManager: Total allocation exceeds 95.00% (1,020,054,720 bytes) of heap memory\n",
      "Scaling row group sizes to 95.00% for 8 writers\n",
      "25/07/17 12:04:53 WARN MemoryManager: Total allocation exceeds 95.00% (1,020,054,720 bytes) of heap memory\n",
      "Scaling row group sizes to 95.00% for 8 writers\n",
      "25/07/17 12:04:53 WARN MemoryManager: Total allocation exceeds 95.00% (1,020,054,720 bytes) of heap memory\n",
      "Scaling row group sizes to 95.00% for 8 writers\n",
      "25/07/17 12:04:53 WARN MemoryManager: Total allocation exceeds 95.00% (1,020,054,720 bytes) of heap memory\n",
      "Scaling row group sizes to 95.00% for 8 writers\n",
      "25/07/17 12:04:54 WARN MemoryManager: Total allocation exceeds 95.00% (1,020,054,720 bytes) of heap memory\n",
      "Scaling row group sizes to 95.00% for 8 writers\n",
      "25/07/17 12:04:54 WARN MemoryManager: Total allocation exceeds 95.00% (1,020,054,720 bytes) of heap memory\n",
      "Scaling row group sizes to 95.00% for 8 writers\n",
      "25/07/17 12:04:55 WARN MemoryManager: Total allocation exceeds 95.00% (1,020,054,720 bytes) of heap memory\n",
      "Scaling row group sizes to 95.00% for 8 writers\n",
      "25/07/17 12:04:55 WARN MemoryManager: Total allocation exceeds 95.00% (1,020,054,720 bytes) of heap memory\n",
      "Scaling row group sizes to 95.00% for 8 writers\n",
      "25/07/17 12:04:55 WARN MemoryManager: Total allocation exceeds 95.00% (1,020,054,720 bytes) of heap memory\n",
      "Scaling row group sizes to 95.00% for 8 writers\n",
      "                                                                                \r"
     ]
    }
   ],
   "source": [
    "ratingDF = spark.read.option(\"header\",\"true\").csv(\"spark-data/ratings.csv\")\n",
    "ratingDF \\\n",
    ".write \\\n",
    ".bucketBy(12,\"movieId\") \\\n",
    ".mode(\"overwrite\") \\\n",
    ".saveAsTable(\"ratings\", mode = 'overwrite')\n"
   ]
  },
  {
   "cell_type": "code",
   "execution_count": 15,
   "id": "dc858d34",
   "metadata": {},
   "outputs": [
    {
     "data": {
      "text/plain": [
       "8"
      ]
     },
     "execution_count": 15,
     "metadata": {},
     "output_type": "execute_result"
    }
   ],
   "source": [
    "spark.read.table(\"tags_bucketed\").rdd.getNumPartitions()"
   ]
  },
  {
   "cell_type": "code",
   "execution_count": 16,
   "id": "c6ffbb89",
   "metadata": {},
   "outputs": [
    {
     "data": {
      "text/plain": [
       "8"
      ]
     },
     "execution_count": 16,
     "metadata": {},
     "output_type": "execute_result"
    }
   ],
   "source": [
    "spark.read.table(\"ratings\").rdd.getNumPartitions()"
   ]
  },
  {
   "cell_type": "code",
   "execution_count": 17,
   "id": "7d2dac0d",
   "metadata": {},
   "outputs": [],
   "source": [
    "spark.conf.set(\"spark.sql.autoBroadcastJoinThreshold\",-1)"
   ]
  },
  {
   "cell_type": "code",
   "execution_count": 19,
   "id": "a9930186",
   "metadata": {},
   "outputs": [
    {
     "name": "stderr",
     "output_type": "stream",
     "text": [
      "                                                                                \r"
     ]
    },
    {
     "data": {
      "text/plain": [
       "10883253790"
      ]
     },
     "execution_count": 19,
     "metadata": {},
     "output_type": "execute_result"
    }
   ],
   "source": [
    "tagsDF = spark.read.table(\"tags_bucketed\")\n",
    "ratingsDF = spark.read.table(\"ratings\")\n",
    "\n",
    "tagsDF \\\n",
    "    .join(ratingsDF,\"movieId\") \\\n",
    "    .count()"
   ]
  }
 ],
 "metadata": {
  "kernelspec": {
   "display_name": "Python 3",
   "language": "python",
   "name": "python3"
  },
  "language_info": {
   "codemirror_mode": {
    "name": "ipython",
    "version": 3
   },
   "file_extension": ".py",
   "mimetype": "text/x-python",
   "name": "python",
   "nbconvert_exporter": "python",
   "pygments_lexer": "ipython3",
   "version": "3.12.8"
  }
 },
 "nbformat": 4,
 "nbformat_minor": 5
}
