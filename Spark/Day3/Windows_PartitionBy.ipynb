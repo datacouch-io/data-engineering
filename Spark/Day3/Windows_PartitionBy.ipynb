{
 "cells": [
  {
   "cell_type": "code",
   "execution_count": 3,
   "id": "e8a83d20",
   "metadata": {},
   "outputs": [
    {
     "name": "stderr",
     "output_type": "stream",
     "text": [
      "WARNING: Using incubator modules: jdk.incubator.vector\n",
      "Using Spark's default log4j profile: org/apache/spark/log4j2-defaults.properties\n",
      "Setting default log level to \"WARN\".\n",
      "To adjust logging level use sc.setLogLevel(newLevel). For SparkR, use setLogLevel(newLevel).\n",
      "25/07/16 16:16:01 WARN NativeCodeLoader: Unable to load native-hadoop library for your platform... using builtin-java classes where applicable\n"
     ]
    }
   ],
   "source": [
    "from pyspark.sql import SparkSession\n",
    "spark = SparkSession.builder \\\n",
    "    .appName(\"SparkSession\") \\\n",
    "    .getOrCreate()"
   ]
  },
  {
   "cell_type": "code",
   "execution_count": 4,
   "id": "0808d4ca-2753-4c5c-8664-5876b76d1c87",
   "metadata": {},
   "outputs": [],
   "source": [
    "from pyspark.sql.window import Window\n",
    "from pyspark.sql.functions import *"
   ]
  },
  {
   "cell_type": "code",
   "execution_count": 5,
   "id": "e1ab3cea-8b26-4482-8003-3fcf6a6bf154",
   "metadata": {},
   "outputs": [
    {
     "name": "stderr",
     "output_type": "stream",
     "text": [
      "                                                                                \r"
     ]
    },
    {
     "name": "stdout",
     "output_type": "stream",
     "text": [
      "== Physical Plan ==\n",
      "AdaptiveSparkPlan (13)\n",
      "+- Project (12)\n",
      "   +- Window (11)\n",
      "      +- Sort (10)\n",
      "         +- Project (9)\n",
      "            +- Window (8)\n",
      "               +- Sort (7)\n",
      "                  +- Project (6)\n",
      "                     +- Window (5)\n",
      "                        +- Sort (4)\n",
      "                           +- Exchange (3)\n",
      "                              +- Project (2)\n",
      "                                 +- Scan csv  (1)\n",
      "\n",
      "\n",
      "(1) Scan csv \n",
      "Output [4]: [userId#17, movieId#18, rating#19, timestamp#20]\n",
      "Batched: false\n",
      "Location: InMemoryFileIndex [file:/Users/shivam/Downloads/Spark/Spark_Optimization_new/Day3/spark-data/ratings.csv]\n",
      "ReadSchema: struct<userId:string,movieId:string,rating:string,timestamp:string>\n",
      "\n",
      "(2) Project\n",
      "Output [5]: [userId#17, movieId#18, rating#19, timestamp#20, cast(userId#17 as bigint) AS _w0#24L]\n",
      "Input [4]: [userId#17, movieId#18, rating#19, timestamp#20]\n",
      "\n",
      "(3) Exchange\n",
      "Input [5]: [userId#17, movieId#18, rating#19, timestamp#20, _w0#24L]\n",
      "Arguments: hashpartitioning(movieId#18, rating#19, 200), ENSURE_REQUIREMENTS, [plan_id=49]\n",
      "\n",
      "(4) Sort\n",
      "Input [5]: [userId#17, movieId#18, rating#19, timestamp#20, _w0#24L]\n",
      "Arguments: [movieId#18 ASC NULLS FIRST, rating#19 ASC NULLS FIRST, _w0#24L ASC NULLS FIRST], false, 0\n",
      "\n",
      "(5) Window\n",
      "Input [5]: [userId#17, movieId#18, rating#19, timestamp#20, _w0#24L]\n",
      "Arguments: [count(rating#19) windowspecdefinition(movieId#18, rating#19, _w0#24L ASC NULLS FIRST, specifiedwindowframe(RangeFrame, currentrow$(), 7)) AS rating_7#22L], [movieId#18, rating#19], [_w0#24L ASC NULLS FIRST]\n",
      "\n",
      "(6) Project\n",
      "Output [6]: [userId#17, movieId#18, rating#19, timestamp#20, rating_7#22L, cast(userId#17 as bigint) AS _w0#27L]\n",
      "Input [6]: [userId#17, movieId#18, rating#19, timestamp#20, _w0#24L, rating_7#22L]\n",
      "\n",
      "(7) Sort\n",
      "Input [6]: [userId#17, movieId#18, rating#19, timestamp#20, rating_7#22L, _w0#27L]\n",
      "Arguments: [movieId#18 ASC NULLS FIRST, rating#19 ASC NULLS FIRST, _w0#27L ASC NULLS FIRST], false, 0\n",
      "\n",
      "(8) Window\n",
      "Input [6]: [userId#17, movieId#18, rating#19, timestamp#20, rating_7#22L, _w0#27L]\n",
      "Arguments: [count(rating#19) windowspecdefinition(movieId#18, rating#19, _w0#27L ASC NULLS FIRST, specifiedwindowframe(RangeFrame, currentrow$(), 15)) AS rating_15#25L], [movieId#18, rating#19], [_w0#27L ASC NULLS FIRST]\n",
      "\n",
      "(9) Project\n",
      "Output [7]: [userId#17, movieId#18, rating#19, timestamp#20, rating_7#22L, rating_15#25L, cast(userId#17 as bigint) AS _w0#30L]\n",
      "Input [7]: [userId#17, movieId#18, rating#19, timestamp#20, rating_7#22L, _w0#27L, rating_15#25L]\n",
      "\n",
      "(10) Sort\n",
      "Input [7]: [userId#17, movieId#18, rating#19, timestamp#20, rating_7#22L, rating_15#25L, _w0#30L]\n",
      "Arguments: [movieId#18 ASC NULLS FIRST, rating#19 ASC NULLS FIRST, _w0#30L ASC NULLS FIRST], false, 0\n",
      "\n",
      "(11) Window\n",
      "Input [7]: [userId#17, movieId#18, rating#19, timestamp#20, rating_7#22L, rating_15#25L, _w0#30L]\n",
      "Arguments: [count(rating#19) windowspecdefinition(movieId#18, rating#19, _w0#30L ASC NULLS FIRST, specifiedwindowframe(RangeFrame, currentrow$(), 30)) AS rating_30#28L], [movieId#18, rating#19], [_w0#30L ASC NULLS FIRST]\n",
      "\n",
      "(12) Project\n",
      "Output [7]: [userId#17, movieId#18, rating#19, timestamp#20, rating_7#22L, rating_15#25L, rating_30#28L]\n",
      "Input [8]: [userId#17, movieId#18, rating#19, timestamp#20, rating_7#22L, rating_15#25L, _w0#30L, rating_30#28L]\n",
      "\n",
      "(13) AdaptiveSparkPlan\n",
      "Output [7]: [userId#17, movieId#18, rating#19, timestamp#20, rating_7#22L, rating_15#25L, rating_30#28L]\n",
      "Arguments: isFinalPlan=false\n",
      "\n",
      "\n"
     ]
    }
   ],
   "source": [
    "ratingDF = spark.read.option(\"header\",\"true\").csv(\"spark-data/ratings.csv\")\n",
    "windowPartition7 = Window.partitionBy(\"movieId\",\"rating\").orderBy(col(\"userId\").cast(\"long\")).rangeBetween(Window.currentRow, 7)\n",
    "windowPartition15 = Window.partitionBy(\"movieId\",\"rating\").orderBy(col(\"userId\").cast(\"long\")).rangeBetween(Window.currentRow, 15)\n",
    "windowPartition30 = Window.partitionBy(\"movieId\",\"rating\").orderBy(col(\"userId\").cast(\"long\")).rangeBetween(Window.currentRow, 30)\n",
    "\n",
    "\n",
    "(ratingDF\n",
    ".withColumn(\"rating_7\",count(\"rating\").over(windowPartition7))\n",
    ".withColumn(\"rating_15\",count(\"rating\").over(windowPartition15))\n",
    ".withColumn(\"rating_30\",count(\"rating\").over(windowPartition30))\n",
    ".explain(\"Formatted\"))"
   ]
  },
  {
   "cell_type": "code",
   "execution_count": null,
   "id": "f90dee82-b50d-465b-8961-69a6b4768733",
   "metadata": {},
   "outputs": [],
   "source": []
  }
 ],
 "metadata": {
  "kernelspec": {
   "display_name": "Python 3",
   "language": "python",
   "name": "python3"
  },
  "language_info": {
   "codemirror_mode": {
    "name": "ipython",
    "version": 3
   },
   "file_extension": ".py",
   "mimetype": "text/x-python",
   "name": "python",
   "nbconvert_exporter": "python",
   "pygments_lexer": "ipython3",
   "version": "3.12.8"
  }
 },
 "nbformat": 4,
 "nbformat_minor": 5
}
